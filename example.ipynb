{
 "cells": [
  {
   "cell_type": "code",
   "execution_count": 1,
   "metadata": {},
   "outputs": [],
   "source": [
    "import bdn2csv\n",
    "import pandas as pd"
   ]
  },
  {
   "cell_type": "code",
   "execution_count": 2,
   "metadata": {},
   "outputs": [
    {
     "data": {
      "text/html": [
       "<div>\n",
       "<style scoped>\n",
       "    .dataframe tbody tr th:only-of-type {\n",
       "        vertical-align: middle;\n",
       "    }\n",
       "\n",
       "    .dataframe tbody tr th {\n",
       "        vertical-align: top;\n",
       "    }\n",
       "\n",
       "    .dataframe thead th {\n",
       "        text-align: right;\n",
       "    }\n",
       "</style>\n",
       "<table border=\"1\" class=\"dataframe\">\n",
       "  <thead>\n",
       "    <tr style=\"text-align: right;\">\n",
       "      <th></th>\n",
       "      <th>Name</th>\n",
       "      <th>Path</th>\n",
       "      <th>Description</th>\n",
       "      <th>Requirements</th>\n",
       "      <th>Status</th>\n",
       "      <th>Importance</th>\n",
       "      <th>Tags</th>\n",
       "      <th>Related Terms</th>\n",
       "    </tr>\n",
       "  </thead>\n",
       "  <tbody>\n",
       "    <tr>\n",
       "      <th>0</th>\n",
       "      <td>Warehouse</td>\n",
       "      <td>Warehouse</td>\n",
       "      <td>Storage facility for goods and raw materials</td>\n",
       "      <td>Must meet size and security standards</td>\n",
       "      <td>Not Specified</td>\n",
       "      <td>Medium</td>\n",
       "      <td>Logistics</td>\n",
       "      <td>NaN</td>\n",
       "    </tr>\n",
       "    <tr>\n",
       "      <th>1</th>\n",
       "      <td>Loading Dock</td>\n",
       "      <td>Warehouse\\Loading Dock</td>\n",
       "      <td>Facility for incoming and outgoing goods</td>\n",
       "      <td>NaN</td>\n",
       "      <td>Not Specified</td>\n",
       "      <td>Medium</td>\n",
       "      <td>NaN</td>\n",
       "      <td>NaN</td>\n",
       "    </tr>\n",
       "    <tr>\n",
       "      <th>2</th>\n",
       "      <td>Section</td>\n",
       "      <td>Warehouse\\Section</td>\n",
       "      <td>Section of the warehouse designated for a spec...</td>\n",
       "      <td>Must be secure and accessible</td>\n",
       "      <td>Not Specified</td>\n",
       "      <td>Medium</td>\n",
       "      <td>Logistics</td>\n",
       "      <td>Picking</td>\n",
       "    </tr>\n",
       "  </tbody>\n",
       "</table>\n",
       "</div>"
      ],
      "text/plain": [
       "           Name                    Path  \\\n",
       "0     Warehouse               Warehouse   \n",
       "1  Loading Dock  Warehouse\\Loading Dock   \n",
       "2       Section       Warehouse\\Section   \n",
       "\n",
       "                                         Description  \\\n",
       "0       Storage facility for goods and raw materials   \n",
       "1           Facility for incoming and outgoing goods   \n",
       "2  Section of the warehouse designated for a spec...   \n",
       "\n",
       "                            Requirements         Status Importance       Tags  \\\n",
       "0  Must meet size and security standards  Not Specified     Medium  Logistics   \n",
       "1                                    NaN  Not Specified     Medium        NaN   \n",
       "2          Must be secure and accessible  Not Specified     Medium  Logistics   \n",
       "\n",
       "  Related Terms  \n",
       "0           NaN  \n",
       "1           NaN  \n",
       "2       Picking  "
      ]
     },
     "execution_count": 2,
     "metadata": {},
     "output_type": "execute_result"
    }
   ],
   "source": [
    "xml_path = \"/workspaces/bdn2csv/data/Warehouse.xml\"\n",
    "csv_path = \"/workspaces/bdn2csv/data/Warehouse.csv\"\n",
    "\n",
    "bdn2csv.convert(xml_path, csv_path)\n",
    "\n",
    "df = pd.read_csv(csv_path)\n",
    "df.head()"
   ]
  },
  {
   "cell_type": "code",
   "execution_count": null,
   "metadata": {},
   "outputs": [],
   "source": []
  }
 ],
 "metadata": {
  "kernelspec": {
   "display_name": "Python 3",
   "language": "python",
   "name": "python3"
  },
  "language_info": {
   "codemirror_mode": {
    "name": "ipython",
    "version": 3
   },
   "file_extension": ".py",
   "mimetype": "text/x-python",
   "name": "python",
   "nbconvert_exporter": "python",
   "pygments_lexer": "ipython3",
   "version": "3.12.1"
  }
 },
 "nbformat": 4,
 "nbformat_minor": 2
}
