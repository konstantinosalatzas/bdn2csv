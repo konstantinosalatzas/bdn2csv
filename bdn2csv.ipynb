{
 "cells": [
  {
   "cell_type": "code",
   "execution_count": null,
   "metadata": {},
   "outputs": [],
   "source": [
    "from bdn2csv.BDN import BDN\n",
    "\n",
    "import pandas as pd\n",
    "import xml.etree.ElementTree as et\n",
    "import codecs\n",
    "import yaml"
   ]
  },
  {
   "cell_type": "code",
   "execution_count": null,
   "metadata": {},
   "outputs": [],
   "source": [
    "with open(\"bdn2csv.yml\") as cfg:\n",
    "    paths = yaml.safe_load(cfg)\n",
    "    xml_path = paths['XML Export file path']\n",
    "    csv_path = paths['CSV Import file path']\n",
    "\n",
    "csv_name = csv_path.split(\"/\")[-1].split(\".\")[0]\n",
    "csv_folder_path = \"/\".join(csv_path.split(\"/\")[:-1])\n",
    "temp_csv_path = csv_folder_path+\"/\"+csv_name+\" - temp.csv\""
   ]
  },
  {
   "cell_type": "code",
   "execution_count": null,
   "metadata": {},
   "outputs": [],
   "source": [
    "xml = et.parse(xml_path)\n",
    "df = pd.DataFrame()\n",
    "\n",
    "bdn = BDN(xml, df)\n",
    "bdn.parse_types()\n",
    "bdn.parse_values()\n",
    "bdn.df = pd.DataFrame(bdn.bdn)\n",
    "bdn.df = bdn.df.sort_values(by=['Path'])"
   ]
  },
  {
   "cell_type": "code",
   "execution_count": null,
   "metadata": {},
   "outputs": [],
   "source": [
    "bdn.df.to_csv(temp_csv_path, index=False, encoding='utf-8')\n",
    "with codecs.open(temp_csv_path, 'r', encoding='utf-8') as rf, codecs.open(csv_path, 'w', encoding='utf-8') as wf:\n",
    "    for line in rf:\n",
    "        line = line.replace(\"Type_\", \"Type\") # Handle the case when \"Type\" appears in standard AND non-standard attributes\n",
    "        wf.write(line)\n",
    "        break\n",
    "    for line in rf:\n",
    "        line = line.replace('\"\"\"', '\"') # Replace (\"\"\") with (\") in quotation\n",
    "        wf.write(line)"
   ]
  },
  {
   "cell_type": "code",
   "execution_count": null,
   "metadata": {},
   "outputs": [],
   "source": [
    "bdn.df.head()"
   ]
  },
  {
   "cell_type": "code",
   "execution_count": null,
   "metadata": {},
   "outputs": [],
   "source": []
  }
 ],
 "metadata": {
  "kernelspec": {
   "display_name": "Python 3",
   "language": "python",
   "name": "python3"
  },
  "language_info": {
   "codemirror_mode": {
    "name": "ipython",
    "version": 3
   },
   "file_extension": ".py",
   "mimetype": "text/x-python",
   "name": "python",
   "nbconvert_exporter": "python",
   "pygments_lexer": "ipython3",
   "version": "3.12.1"
  }
 },
 "nbformat": 4,
 "nbformat_minor": 2
}
